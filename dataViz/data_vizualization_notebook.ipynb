{
 "cells": [
  {
   "cell_type": "markdown",
   "metadata": {},
   "source": [
    "# Data vizualization on movie dataset"
   ]
  },
  {
   "cell_type": "code",
   "execution_count": 1,
   "metadata": {},
   "outputs": [],
   "source": [
    "import pandas as pd\n",
    "import seaborn as sns\n",
    "import matplotlib as plt\n",
    "import numpy as np"
   ]
  },
  {
   "cell_type": "markdown",
   "metadata": {},
   "source": [
    "Vizualizing data helps to illustrate certain attributes of the dataset and display meaningful analytics"
   ]
  },
  {
   "cell_type": "code",
   "execution_count": 2,
   "metadata": {},
   "outputs": [
    {
     "data": {
      "text/html": [
       "<div>\n",
       "<style scoped>\n",
       "    .dataframe tbody tr th:only-of-type {\n",
       "        vertical-align: middle;\n",
       "    }\n",
       "\n",
       "    .dataframe tbody tr th {\n",
       "        vertical-align: top;\n",
       "    }\n",
       "\n",
       "    .dataframe thead th {\n",
       "        text-align: right;\n",
       "    }\n",
       "</style>\n",
       "<table border=\"1\" class=\"dataframe\">\n",
       "  <thead>\n",
       "    <tr style=\"text-align: right;\">\n",
       "      <th></th>\n",
       "      <th>year</th>\n",
       "    </tr>\n",
       "  </thead>\n",
       "  <tbody>\n",
       "    <tr>\n",
       "      <td>count</td>\n",
       "      <td>7055.000000</td>\n",
       "    </tr>\n",
       "    <tr>\n",
       "      <td>mean</td>\n",
       "      <td>2007.529554</td>\n",
       "    </tr>\n",
       "    <tr>\n",
       "      <td>std</td>\n",
       "      <td>15.920662</td>\n",
       "    </tr>\n",
       "    <tr>\n",
       "      <td>min</td>\n",
       "      <td>1921.000000</td>\n",
       "    </tr>\n",
       "    <tr>\n",
       "      <td>25%</td>\n",
       "      <td>2006.000000</td>\n",
       "    </tr>\n",
       "    <tr>\n",
       "      <td>50%</td>\n",
       "      <td>2014.000000</td>\n",
       "    </tr>\n",
       "    <tr>\n",
       "      <td>75%</td>\n",
       "      <td>2017.000000</td>\n",
       "    </tr>\n",
       "    <tr>\n",
       "      <td>max</td>\n",
       "      <td>2020.000000</td>\n",
       "    </tr>\n",
       "  </tbody>\n",
       "</table>\n",
       "</div>"
      ],
      "text/plain": [
       "              year\n",
       "count  7055.000000\n",
       "mean   2007.529554\n",
       "std      15.920662\n",
       "min    1921.000000\n",
       "25%    2006.000000\n",
       "50%    2014.000000\n",
       "75%    2017.000000\n",
       "max    2020.000000"
      ]
     },
     "execution_count": 2,
     "metadata": {},
     "output_type": "execute_result"
    }
   ],
   "source": [
    "data_file = '../data/movieDB.csv'\n",
    "movies_df = pd.read_csv(data_file)\n",
    "movies_df.describe()"
   ]
  },
  {
   "cell_type": "markdown",
   "metadata": {},
   "source": [
    "Data needs to be processed since there are duplicate records. Also the genre information needs to be more comprehensive.\n",
    "Removing duplicates:"
   ]
  },
  {
   "cell_type": "code",
   "execution_count": 3,
   "metadata": {},
   "outputs": [
    {
     "data": {
      "text/html": [
       "<div>\n",
       "<style scoped>\n",
       "    .dataframe tbody tr th:only-of-type {\n",
       "        vertical-align: middle;\n",
       "    }\n",
       "\n",
       "    .dataframe tbody tr th {\n",
       "        vertical-align: top;\n",
       "    }\n",
       "\n",
       "    .dataframe thead th {\n",
       "        text-align: right;\n",
       "    }\n",
       "</style>\n",
       "<table border=\"1\" class=\"dataframe\">\n",
       "  <thead>\n",
       "    <tr style=\"text-align: right;\">\n",
       "      <th></th>\n",
       "      <th>year</th>\n",
       "    </tr>\n",
       "  </thead>\n",
       "  <tbody>\n",
       "    <tr>\n",
       "      <td>count</td>\n",
       "      <td>3250.000000</td>\n",
       "    </tr>\n",
       "    <tr>\n",
       "      <td>mean</td>\n",
       "      <td>2009.028615</td>\n",
       "    </tr>\n",
       "    <tr>\n",
       "      <td>std</td>\n",
       "      <td>14.801470</td>\n",
       "    </tr>\n",
       "    <tr>\n",
       "      <td>min</td>\n",
       "      <td>1921.000000</td>\n",
       "    </tr>\n",
       "    <tr>\n",
       "      <td>25%</td>\n",
       "      <td>2009.000000</td>\n",
       "    </tr>\n",
       "    <tr>\n",
       "      <td>50%</td>\n",
       "      <td>2014.000000</td>\n",
       "    </tr>\n",
       "    <tr>\n",
       "      <td>75%</td>\n",
       "      <td>2017.000000</td>\n",
       "    </tr>\n",
       "    <tr>\n",
       "      <td>max</td>\n",
       "      <td>2020.000000</td>\n",
       "    </tr>\n",
       "  </tbody>\n",
       "</table>\n",
       "</div>"
      ],
      "text/plain": [
       "              year\n",
       "count  3250.000000\n",
       "mean   2009.028615\n",
       "std      14.801470\n",
       "min    1921.000000\n",
       "25%    2009.000000\n",
       "50%    2014.000000\n",
       "75%    2017.000000\n",
       "max    2020.000000"
      ]
     },
     "execution_count": 3,
     "metadata": {},
     "output_type": "execute_result"
    }
   ],
   "source": [
    "movies_df.drop_duplicates(inplace=True)\n",
    "movies_df.describe()"
   ]
  },
  {
   "cell_type": "markdown",
   "metadata": {},
   "source": [
    "Some movie genres happen to contain the county information, for movies where multiple countries were involved. The following code identifies such instances and appends the first element of genre, which happens to be the miss-classified country, to the country column. Afterwards the first element of genre is ommited."
   ]
  },
  {
   "cell_type": "code",
   "execution_count": 4,
   "metadata": {},
   "outputs": [
    {
     "name": "stdout",
     "output_type": "stream",
     "text": [
      "['Μ. Βρετανία,Αισθηματική,Δραμεντί,Εποχής,Κομεντί', 'Μ. Βρετανία,Βιογραφία,Δραμεντί,Θρησκευτική,Ιστορική,Πολιτική', 'Νέα Ζηλανδία,Νότια Κορέα,Γουέστερν,Δράσης,Εποχής,Πολεμικών Τεχνών,Φαντασίας', 'Κίνα,Δράσης,Περιπέτεια,Πολεμικών Τεχνών,Φαντασίας', 'Μ. Βρετανία,Δραματική,Έπος,Εποχής,Περιπέτεια,Πολεμικό Δράμα,Σινεφίλ']\n"
     ]
    },
    {
     "data": {
      "text/plain": [
       "[]"
      ]
     },
     "execution_count": 4,
     "metadata": {},
     "output_type": "execute_result"
    }
   ],
   "source": [
    "missclassified_genres = [genres for genres in movies_df['genre'].values if genres.split(',')[0] in movies_df['country'].values]\n",
    "print(missclassified_genres[:5])\n",
    "# cleaning\n",
    "while missclassified_genres:\n",
    "    movies_df.loc[movies_df['genre'].isin(missclassified_genres), 'country'] += ',' + movies_df.loc[movies_df['genre'].isin(missclassified_genres), 'genre'].apply(lambda x: x.split(',')[0])\n",
    "    movies_df.loc[movies_df['genre'].isin(missclassified_genres), 'genre'] = movies_df[movies_df['genre'].isin(missclassified_genres)]['genre'].apply(lambda x: ','.join(x.split(',')[1:]))\n",
    "    missclassified_genres = [genres for genres in movies_df['genre'].values if genres.split(',')[0] in movies_df['country'].values]\n",
    "\n",
    "missclassified_genres"
    "movies_df['genre'] = movies_df['genre'].str.replace(r'Έπος|Πολεμικό Δράμα|Εποχής','Ιστορική').str.replace(r',?Ιστορική(?=[^.]*\Ιστορική)','')"
    "movies_df['genre'] = movies_df['genre'].str.replace(r'Πολεμικό Δράμα|Δραματικό Θρίλερ','Δραματική').str.replace(r',?Δραματική(?=[^.]*\Δραματική)','')"
    "movies_df['genre'] = movies_df['genre'].str.replace(r'Τρόμου|Πολιτικό Θρίλερ|Μεταφυσικό Θρίλερ','Θρίλερ').str.replace(r',?Θρίλερ(?=[^.]*\Θρίλερ)','')"
   ]
  },
  {
   "cell_type": "markdown",
   "metadata": {},
   "source": [
    "Making sense of movie genres. We will break up each element in the `genre` column and add it as a seperate column with a binary option for each record. The following code creates a list of all the genre lists, flattens it and gets the unique values."
   ]
  },
  {
   "cell_type": "code",
   "execution_count": 5,
   "metadata": {},
   "outputs": [
    {
     "data": {
      "text/html": [
       "<div>\n",
       "<style scoped>\n",
       "    .dataframe tbody tr th:only-of-type {\n",
       "        vertical-align: middle;\n",
       "    }\n",
       "\n",
       "    .dataframe tbody tr th {\n",
       "        vertical-align: top;\n",
       "    }\n",
       "\n",
       "    .dataframe thead th {\n",
       "        text-align: right;\n",
       "    }\n",
       "</style>\n",
       "<table border=\"1\" class=\"dataframe\">\n",
       "  <thead>\n",
       "    <tr style=\"text-align: right;\">\n",
       "      <th></th>\n",
       "      <th>url</th>\n",
       "      <th>title</th>\n",
       "      <th>original_title</th>\n",
       "      <th>year</th>\n",
       "      <th>country</th>\n",
       "      <th>genre</th>\n",
       "      <th>plot</th>\n",
       "      <th>Ιστορική</th>\n",
       "      <th>Οικογενειακή</th>\n",
       "      <th>Παρωδία</th>\n",
       "      <th>...</th>\n",
       "      <th>Ταινία Δρόμου</th>\n",
       "      <th>Μιούζικαλ</th>\n",
       "      <th>Μουσική</th>\n",
       "      <th>Πολεμικό Δράμα</th>\n",
       "      <th>Πολεμικών Τεχνών</th>\n",
       "      <th>Αισθηματική</th>\n",
       "      <th>Πολιτική</th>\n",
       "      <th>Φαντασίας</th>\n",
       "      <th>Κομεντί</th>\n",
       "      <th>Χορευτική</th>\n",
       "    </tr>\n",
       "  </thead>\n",
       "  <tbody>\n",
       "    <tr>\n",
       "      <td>0</td>\n",
       "      <td>https://www.filmy.gr/movies-database/the-night...</td>\n",
       "      <td>Τη Νύχτα που ο Φερνάντο Πεσσόα Συνάντησε τον Κ...</td>\n",
       "      <td>Τη Νύχτα που ο Φερνάντο Πεσσόα Συνάντησε τον Κ...</td>\n",
       "      <td>2008</td>\n",
       "      <td>Ελλάδα</td>\n",
       "      <td>Βιογραφία,Εποχής,Ιστορική,Ντοκιμαντέρ,Ντοκιουν...</td>\n",
       "      <td>Στις 21 Οκτωβρίου του 1929, το υπερωκεάνιο Sat...</td>\n",
       "      <td>1</td>\n",
       "      <td>0</td>\n",
       "      <td>0</td>\n",
       "      <td>...</td>\n",
       "      <td>0</td>\n",
       "      <td>0</td>\n",
       "      <td>0</td>\n",
       "      <td>0</td>\n",
       "      <td>0</td>\n",
       "      <td>0</td>\n",
       "      <td>0</td>\n",
       "      <td>0</td>\n",
       "      <td>0</td>\n",
       "      <td>0</td>\n",
       "    </tr>\n",
       "    <tr>\n",
       "      <td>1</td>\n",
       "      <td>https://www.filmy.gr/movies-database/king-arthur/</td>\n",
       "      <td>Βασιλιάς Αρθούρος</td>\n",
       "      <td>King Arthur</td>\n",
       "      <td>2004</td>\n",
       "      <td>ΗΠΑ</td>\n",
       "      <td>Δράσης,Έπος,Εποχής,Περιπέτεια,Πολεμική</td>\n",
       "      <td>Ο Αρθούρος διοικεί μια ομάδα ιπποτών για λογαρ...</td>\n",
       "      <td>0</td>\n",
       "      <td>0</td>\n",
       "      <td>0</td>\n",
       "      <td>...</td>\n",
       "      <td>0</td>\n",
       "      <td>0</td>\n",
       "      <td>0</td>\n",
       "      <td>0</td>\n",
       "      <td>0</td>\n",
       "      <td>0</td>\n",
       "      <td>0</td>\n",
       "      <td>0</td>\n",
       "      <td>0</td>\n",
       "      <td>0</td>\n",
       "    </tr>\n",
       "    <tr>\n",
       "      <td>2</td>\n",
       "      <td>https://www.filmy.gr/movies-database/pavarotti/</td>\n",
       "      <td>Παβαρότι</td>\n",
       "      <td>Pavarotti</td>\n",
       "      <td>2019</td>\n",
       "      <td>ΗΠΑ</td>\n",
       "      <td>Βιογραφία,Μουσική,Ντοκιμαντέρ</td>\n",
       "      <td>Συνδυάζοντας στιγμές από τη ζωή και την καριέρ...</td>\n",
       "      <td>0</td>\n",
       "      <td>0</td>\n",
       "      <td>0</td>\n",
       "      <td>...</td>\n",
       "      <td>0</td>\n",
       "      <td>0</td>\n",
       "      <td>1</td>\n",
       "      <td>0</td>\n",
       "      <td>0</td>\n",
       "      <td>0</td>\n",
       "      <td>0</td>\n",
       "      <td>0</td>\n",
       "      <td>0</td>\n",
       "      <td>0</td>\n",
       "    </tr>\n",
       "    <tr>\n",
       "      <td>3</td>\n",
       "      <td>https://www.filmy.gr/movies-database/this-beau...</td>\n",
       "      <td>Ο Φανταστικός Κόσμος της Μπέλα</td>\n",
       "      <td>This Beautiful Fantastic</td>\n",
       "      <td>2016</td>\n",
       "      <td>Μ. Βρετανία</td>\n",
       "      <td>Αισθηματική,Δραμεντί,Νεανική</td>\n",
       "      <td>Η Μπέλα Μπράουν είναι μια φαντασιόπληκτη, όσο ...</td>\n",
       "      <td>0</td>\n",
       "      <td>0</td>\n",
       "      <td>0</td>\n",
       "      <td>...</td>\n",
       "      <td>0</td>\n",
       "      <td>0</td>\n",
       "      <td>0</td>\n",
       "      <td>0</td>\n",
       "      <td>0</td>\n",
       "      <td>1</td>\n",
       "      <td>0</td>\n",
       "      <td>0</td>\n",
       "      <td>0</td>\n",
       "      <td>0</td>\n",
       "    </tr>\n",
       "    <tr>\n",
       "      <td>4</td>\n",
       "      <td>https://www.filmy.gr/movies-database/earthquak...</td>\n",
       "      <td>Προάγγελμα Θανάτου</td>\n",
       "      <td>Earthquake Bird</td>\n",
       "      <td>2019</td>\n",
       "      <td>ΗΠΑ</td>\n",
       "      <td>Αισθηματική,Δραματική,Δραματικό Θρίλερ,Εποχής,...</td>\n",
       "      <td>Τόκιο, 1989. Η Λούσι Φλάι, μια αινιγματική μετ...</td>\n",
       "      <td>0</td>\n",
       "      <td>0</td>\n",
       "      <td>0</td>\n",
       "      <td>...</td>\n",
       "      <td>0</td>\n",
       "      <td>0</td>\n",
       "      <td>0</td>\n",
       "      <td>0</td>\n",
       "      <td>0</td>\n",
       "      <td>1</td>\n",
       "      <td>0</td>\n",
       "      <td>0</td>\n",
       "      <td>0</td>\n",
       "      <td>0</td>\n",
       "    </tr>\n",
       "  </tbody>\n",
       "</table>\n",
       "<p>5 rows × 55 columns</p>\n",
       "</div>"
      ],
      "text/plain": [
       "                                                 url  \\\n",
       "0  https://www.filmy.gr/movies-database/the-night...   \n",
       "1  https://www.filmy.gr/movies-database/king-arthur/   \n",
       "2    https://www.filmy.gr/movies-database/pavarotti/   \n",
       "3  https://www.filmy.gr/movies-database/this-beau...   \n",
       "4  https://www.filmy.gr/movies-database/earthquak...   \n",
       "\n",
       "                                               title  \\\n",
       "0  Τη Νύχτα που ο Φερνάντο Πεσσόα Συνάντησε τον Κ...   \n",
       "1                                  Βασιλιάς Αρθούρος   \n",
       "2                                           Παβαρότι   \n",
       "3                     Ο Φανταστικός Κόσμος της Μπέλα   \n",
       "4                                 Προάγγελμα Θανάτου   \n",
       "\n",
       "                                      original_title  year      country  \\\n",
       "0  Τη Νύχτα που ο Φερνάντο Πεσσόα Συνάντησε τον Κ...  2008       Ελλάδα   \n",
       "1                                        King Arthur  2004          ΗΠΑ   \n",
       "2                                          Pavarotti  2019          ΗΠΑ   \n",
       "3                           This Beautiful Fantastic  2016  Μ. Βρετανία   \n",
       "4                                    Earthquake Bird  2019          ΗΠΑ   \n",
       "\n",
       "                                               genre  \\\n",
       "0  Βιογραφία,Εποχής,Ιστορική,Ντοκιμαντέρ,Ντοκιουν...   \n",
       "1             Δράσης,Έπος,Εποχής,Περιπέτεια,Πολεμική   \n",
       "2                      Βιογραφία,Μουσική,Ντοκιμαντέρ   \n",
       "3                       Αισθηματική,Δραμεντί,Νεανική   \n",
       "4  Αισθηματική,Δραματική,Δραματικό Θρίλερ,Εποχής,...   \n",
       "\n",
       "                                                plot  Ιστορική  Οικογενειακή  \\\n",
       "0  Στις 21 Οκτωβρίου του 1929, το υπερωκεάνιο Sat...         1             0   \n",
       "1  Ο Αρθούρος διοικεί μια ομάδα ιπποτών για λογαρ...         0             0   \n",
       "2  Συνδυάζοντας στιγμές από τη ζωή και την καριέρ...         0             0   \n",
       "3  Η Μπέλα Μπράουν είναι μια φαντασιόπληκτη, όσο ...         0             0   \n",
       "4  Τόκιο, 1989. Η Λούσι Φλάι, μια αινιγματική μετ...         0             0   \n",
       "\n",
       "   Παρωδία  ...  Ταινία Δρόμου  Μιούζικαλ  Μουσική  Πολεμικό Δράμα  \\\n",
       "0        0  ...              0          0        0               0   \n",
       "1        0  ...              0          0        0               0   \n",
       "2        0  ...              0          0        1               0   \n",
       "3        0  ...              0          0        0               0   \n",
       "4        0  ...              0          0        0               0   \n",
       "\n",
       "   Πολεμικών Τεχνών  Αισθηματική  Πολιτική  Φαντασίας  Κομεντί  Χορευτική  \n",
       "0                 0            0         0          0        0          0  \n",
       "1                 0            0         0          0        0          0  \n",
       "2                 0            0         0          0        0          0  \n",
       "3                 0            1         0          0        0          0  \n",
       "4                 0            1         0          0        0          0  \n",
       "\n",
       "[5 rows x 55 columns]"
      ]
     },
     "execution_count": 5,
     "metadata": {},
     "output_type": "execute_result"
    }
   ],
   "source": [
    "genre_list = list(set([genre  for genres in movies_df['genre'].values for genre in genres.split(',')]))\n",
    "for genre in genre_list:\n",
    "    movies_df[genre] = movies_df['genre'].apply(lambda x: 1 if genre in x.split(',') else 0) \n",
    "\n",
    "movies_df.head()    "
   ]
  },
  {
   "cell_type": "code",
   "execution_count": 33,
   "metadata": {},
   "outputs": [
    {
     "data": {
      "text/plain": [
       "<matplotlib.axes._subplots.AxesSubplot at 0x7f2fa60a6210>"
      ]
     },
     "execution_count": 33,
     "metadata": {},
     "output_type": "execute_result"
    },
    {
     "data": {
      "image/png": "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\n",
      "text/plain": [
       "<Figure size 864x720 with 1 Axes>"
      ]
     },
     "metadata": {
      "needs_background": "light"
     },
     "output_type": "display_data"
    }
   ],
   "source": [
    "movies_df[genre_list].sum().sort_values().plot(kind='bar', figsize=(12,10),stacked=True)"
   ]
  },
  {
   "cell_type": "markdown",
   "metadata": {},
   "source": [
    "Exporting cleaned data"
   ]
  },
  {
   "cell_type": "code",
   "execution_count": 34,
   "metadata": {},
   "outputs": [],
   "source": [
    "movies_df.to_csv('../data/movieDB_clean.csv')"
   ]
  },
  {
   "cell_type": "code",
   "execution_count": null,
   "metadata": {},
   "outputs": [],
   "source": []
  }
 ],
 "metadata": {
  "kernelspec": {
   "display_name": "Python 3",
   "language": "python",
   "name": "python3"
  },
  "language_info": {
   "codemirror_mode": {
    "name": "ipython",
    "version": 3
   },
   "file_extension": ".py",
   "mimetype": "text/x-python",
   "name": "python",
   "nbconvert_exporter": "python",
   "pygments_lexer": "ipython3",
   "version": "3.7.4"
  }
 },
 "nbformat": 4,
 "nbformat_minor": 2
}
